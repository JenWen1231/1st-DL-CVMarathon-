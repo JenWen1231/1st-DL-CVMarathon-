{
 "cells": [
  {
   "cell_type": "code",
   "execution_count": 1,
   "metadata": {},
   "outputs": [],
   "source": [
    "import cv2\n",
    "import numpy as np\n",
    "\n",
    "img=cv2.imread('./Data/lena.png')"
   ]
  },
  {
   "cell_type": "code",
   "execution_count": 2,
   "metadata": {},
   "outputs": [],
   "source": [
    "img_rect=img.copy()\n",
    "cv2.rectangle(img_rect,(60,40),(420,510),(0,0,225),3)\n",
    "\n",
    "while True:\n",
    "    cv2.imshow('image',img_rect)\n",
    "    k=cv2.waitKey(0)\n",
    "    if k==27:\n",
    "        cv2.destroyAllWindows()\n",
    "        break"
   ]
  },
  {
   "cell_type": "code",
   "execution_count": 3,
   "metadata": {},
   "outputs": [],
   "source": [
    "img_line=img.copy()\n",
    "cv2.line(img_line,(60,40),(420,510),(0,0,255),3)\n",
    "\n",
    "while True:\n",
    "    cv2.imshow('image',img_line)\n",
    "    k=cv2.waitKey(0)\n",
    "    if k==27:\n",
    "        cv2.destroyAllWindows()\n",
    "        break"
   ]
  },
  {
   "cell_type": "code",
   "execution_count": 11,
   "metadata": {},
   "outputs": [
    {
     "name": "stdout",
     "output_type": "stream",
     "text": [
      "origin point1=[512, 40], origin point2=[512, 510]\n",
      "resize point1=(0, 40), origin point2=(0, 254)\n"
     ]
    }
   ],
   "source": [
    "img_hw=img.copy()\n",
    "point1=[60,40]\n",
    "point2=[420,510]\n",
    "\n",
    "img_hw=cv2.cvtColor(img_hw,cv2.COLOR_BGR2HSV)\n",
    "\n",
    "img_hw[...,-1]=cv2.equalizeHist(img_hw[...,-1])\n",
    "\n",
    "img_hw=cv2.cvtColor(img_hw,cv2.COLOR_HSV2BGR)\n",
    "\n",
    "h,w=img_hw.shape[:2]\n",
    "img_hw=img[:,::-1,:]\n",
    "\n",
    "point1[0]=h\n",
    "point2[0]=w\n",
    "\n",
    "fx=0.5\n",
    "fy=0.5\n",
    "resize_col=int(img_hw.shape[1]*fx)\n",
    "resize_row=int(img_hw.shape[0]*fy)\n",
    "\n",
    "M_scale=np.array([[1,0,resize_col],[0,1,resize_row]],dtype=np.float32)\n",
    "img_hw=cv2.warpAffine(img_hw,M_scale,(img_hw.shape[1],img_hw.shape[0]))\n",
    "\n",
    "bbox=np.array((point1,point2),dtype=np.float32)\n",
    "\n",
    "homo_coor_result=np.dot(M_scale.T,bbox)\n",
    "homo_coor_result=homo_coor_result.astype('uint8')\n",
    "\n",
    "scale_point1=tuple(homo_coor_result[0])\n",
    "scale_point2=tuple(homo_coor_result[1])\n",
    "\n",
    "print('origin point1={}, origin point2={}'.format(point1,point2))\n",
    "print('resize point1={}, origin point2={}'.format(scale_point1,scale_point2))\n",
    "\n",
    "cv2.rectangle(img_hw,scale_point1,scale_point2,(0,0,255),3)\n",
    "while True:\n",
    "    cv2.imshow('image',img_hw)\n",
    "    k=cv2.waitKey(0)\n",
    "    if k==27:\n",
    "        cv2.destroyAllWindows()\n",
    "        break"
   ]
  },
  {
   "cell_type": "code",
   "execution_count": null,
   "metadata": {},
   "outputs": [],
   "source": []
  }
 ],
 "metadata": {
  "kernelspec": {
   "display_name": "Python 3",
   "language": "python",
   "name": "python3"
  },
  "language_info": {
   "codemirror_mode": {
    "name": "ipython",
    "version": 3
   },
   "file_extension": ".py",
   "mimetype": "text/x-python",
   "name": "python",
   "nbconvert_exporter": "python",
   "pygments_lexer": "ipython3",
   "version": "3.7.3"
  }
 },
 "nbformat": 4,
 "nbformat_minor": 2
}
