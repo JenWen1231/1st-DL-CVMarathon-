{
 "cells": [
  {
   "cell_type": "code",
   "execution_count": 1,
   "metadata": {},
   "outputs": [],
   "source": [
    "import cv2\n",
    "import numpy as np\n",
    "\n",
    "img=cv2.imread('./Data/lena.png')"
   ]
  },
  {
   "cell_type": "code",
   "execution_count": null,
   "metadata": {},
   "outputs": [],
   "source": [
    "img_grey=cv2.cvtColor(img,cv2.COLOR_BGR2GRAY)\n",
    "\n",
    "img_sobel_x=cv2.Sobel(img_grey,cv2.CV_16S,dx=1,dy=0,ksize=3)\n",
    "img_sobel_x=cv2.convertScaleAbs(img_sobel_x)\n",
    "\n",
    "img_sobel_x_uint8=cv2.Sobel(img_sobel_x,cv2.CV_16S,dx=0,dy=1,ksize=3)\n",
    "img_sobel_x_uint8=cv2.convertScaleAbs(img_sobel_x_uint8)\n",
    "\n",
    "img_show=np.hstack((img_grey,img_sobel_x,img_sobel_x_uint8))\n",
    "while True:\n",
    "    cv2.imshow('Edge Detection',img_show)\n",
    "    k=cv2.waitKey(0)\n",
    "    if k==27:\n",
    "        cv2.destroyAllWindows()\n",
    "        break"
   ]
  },
  {
   "cell_type": "code",
   "execution_count": null,
   "metadata": {},
   "outputs": [],
   "source": [
    "img_grey=cv2.cvtColor(img,cv2.COLOR_BGR2GRAY)\n",
    "\n",
    "img_sobel_x=cv2.Sobel(img_grey,cv2.CV_16S,dx=0,dy=1,ksize=3)\n",
    "\n",
    "img_sobel_xx=cv2.Sobel(img_sobel_x,cv2.CV_16S,dx=0,dy=1,ksize=3)\n",
    "\n",
    "img_show=np.hstack((img_grey,img_sobel_x,img_sobel_xx))\n",
    "while True:\n",
    "    cv2.imshow('Edge Detection',img_show)\n",
    "    k=cv2.waitKey(0)\n",
    "    if k==27:\n",
    "        cv2.destoryAllWindows()\n",
    "        break"
   ]
  },
  {
   "cell_type": "code",
   "execution_count": null,
   "metadata": {},
   "outputs": [],
   "source": []
  }
 ],
 "metadata": {
  "kernelspec": {
   "display_name": "Python 3",
   "language": "python",
   "name": "python3"
  },
  "language_info": {
   "codemirror_mode": {
    "name": "ipython",
    "version": 3
   },
   "file_extension": ".py",
   "mimetype": "text/x-python",
   "name": "python",
   "nbconvert_exporter": "python",
   "pygments_lexer": "ipython3",
   "version": "3.7.3"
  }
 },
 "nbformat": 4,
 "nbformat_minor": 2
}
