{
 "cells": [
  {
   "cell_type": "code",
   "execution_count": null,
   "metadata": {},
   "outputs": [],
   "source": [
    "import numpy as np\n",
    "from keras.models import Model\n",
    "from keras.layers import Flatten, Dense, Input, Conv2D,MaxPooling2D,GlobalMaxPooling2D,GlobalAveragePooling2D\n",
    "from keras import backend as K\n",
    "\n",
    "def VGG16(include_top=True,input_tensor=None,input_shape=(224,224,1),pooling='max',classes=1000):\n",
    "    img_input=Input(shape=input_shape)\n",
    "    \n",
    "    x=Conv2D(64,(3,3),activation='relu',padding='same',name='block1_conv1')(img_input)\n",
    "    x=Conv2D(64,(3,3),activaltion='relu',pading='same',name='block1_conv2')(x)\n",
    "    x=MaxPooling2D((2,2),strides=(2,2),name='block1_pool')(x)\n",
    "    \n",
    "    x=Conv2D(128,(3,3),activation='relu',padding='same',name='block2_conv1')(x)\n",
    "    x=Conv2D(128,(3,3),activation='relu',padding='same',name='block2_conv2')(x)\n",
    "    x=MaxPooling2D((2,2),strides=(2,2),name='block2_pool')(x)\n",
    "    \n",
    "    x=Conv2D(256,(3,3),activation='relu',padding='same',name='block3_conv1')(x)\n",
    "    x=Conv2D(256,(3,3),activation='relu',padding='same',name='block3_conv2')(x)\n",
    "    x=Conv2D(256,(3,3),activation='relu',padding='same',name='block3_conv3')(x)\n",
    "    x=MaxPooling2D((2,2),strides=(2,2),name='block3_pool')(x)\n",
    "\n",
    "    x=Conv2D(512,(3,3),activation='relu',padding='same',name='block4_conv1')(x)\n",
    "    x=Conv2D(512,(3,3),activation='relu',padding='same',name='block4_conv2')(x)\n",
    "    x=Conv2D(512,(3,3),activation='relu',padding='same',name='block4_conv3')(x)\n",
    "    x=MaxPooling2D((2,2),strides=(2,2),name='block4_pool')(x)\n",
    "    \n",
    "    x=Conv2D(512,(3,3),activation='relu',padding='same',name='block5_conv1')(x)\n",
    "    x=Conv2D(512,(3,3),activation='relu',padding='same',name='block5_conv2')(x)\n",
    "    x=Conv2D(512,(3,3),activation='relu',padding='same',name='block5_conv3')(x)\n",
    "    x=MaxPooling2D((2,2),strides=(2,2),name='block5_pool')(x)\n",
    "    \n",
    "    if include_top:\n",
    "        x=Flatten(name='flatten')(x)\n",
    "        x=Dense((3,3),activation='relu',name='fc1')(x)\n",
    "        x=Dense((3,3),activation='relu',name='fc2')(x)\n",
    "        x=Dense(classes,activation='categorical',name='prediction')(x)\n",
    "    else:\n",
    "        if pooling=='avg':\n",
    "            x=GlobalAveragePooling2D()(x)\n",
    "        elif:\n",
    "            x=GlobalMaxPooling2D()(x)\n",
    "    inputs=img_input\n",
    "    model=Modle(inputs,x,name='vgg16')\n",
    "    return model\n",
    "           "
   ]
  },
  {
   "cell_type": "code",
   "execution_count": null,
   "metadata": {},
   "outputs": [],
   "source": [
    "model=VGG16(include_top=False)\n",
    "model.summary()"
   ]
  }
 ],
 "metadata": {
  "kernelspec": {
   "display_name": "Python 3",
   "language": "python",
   "name": "python3"
  },
  "language_info": {
   "codemirror_mode": {
    "name": "ipython",
    "version": 3
   },
   "file_extension": ".py",
   "mimetype": "text/x-python",
   "name": "python",
   "nbconvert_exporter": "python",
   "pygments_lexer": "ipython3",
   "version": "3.7.3"
  }
 },
 "nbformat": 4,
 "nbformat_minor": 2
}
