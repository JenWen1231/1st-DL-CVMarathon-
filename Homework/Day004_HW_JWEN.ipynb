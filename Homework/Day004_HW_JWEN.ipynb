{
 "cells": [
  {
   "cell_type": "code",
   "execution_count": 4,
   "metadata": {},
   "outputs": [],
   "source": [
    "import cv2\n",
    "import time\n",
    "import numpy as np\n",
    "\n",
    "img_path='./Data/lena.png'\n",
    "img=cv2.imread(img_path)"
   ]
  },
  {
   "cell_type": "code",
   "execution_count": 5,
   "metadata": {},
   "outputs": [],
   "source": [
    "img_hflip=img[:,::-1,:]\n",
    "img_vflip=img[::-1,:,:]\n",
    "img_hvflip=img[::-1,::-1,:]\n",
    "\n",
    "hflip=np.hstack((img,img_hflip))\n",
    "vflip=np.hstack((img_vflip,img_hvflip))\n",
    "img_flip=np.vstack((hflip,vflip))\n",
    "while True:\n",
    "  cv2.imshow('flip image',img_flip)\n",
    "  k=cv2.waitKey(0)\n",
    "  if k==27:\n",
    "    cv2.destroyAllWindows()\n",
    "    break"
   ]
  },
  {
   "cell_type": "code",
   "execution_count": null,
   "metadata": {},
   "outputs": [],
   "source": [
    "img_test=cv2.resize(img,None,fx=0.2,fy=0.2)\n",
    "fx,fy=8,8\n",
    "\n",
    "start_time=time.time()\n",
    "img_area_scale=cv2.resize(img_test,None,fx=fx,fy=fy,interpolation=cv2.INTER_NEAREST)\n",
    "print('INTER_EAREST zoom cost{}'.format(time.time()-start_time))\n",
    "\n",
    "start_time=time.time()\n",
    "img_cubic_scale=cv2.resize(img_test,None,fx=fx,fy=fy,interpolation=cv2.INTER_CUBIC)\n",
    "print('INTER_CUBIC zoom cost{}'.format(time.time()-start_time))\n",
    "\n",
    "img_zoom=np.hstack((img_area_scale,img_cubic_scale))\n",
    "while True:\n",
    "    cv2.imshow('zoom image',img_zoom)\n",
    "    k=cv2.waitKey(0)\n",
    "    if k==27:\n",
    "        cv2.destroyAlllWindows()\n",
    "        break"
   ]
  },
  {
   "cell_type": "code",
   "execution_count": null,
   "metadata": {},
   "outputs": [],
   "source": [
    "M=np.array()\n",
    "shift_img=cv2.warpAffine(img,M(img.shape[1],img.shape[0]))\n",
    "\n",
    "img_shift=np.hstack((img,shif_img))\n",
    "while True:\n",
    "    cv2.imshow('shift image',img_shift)\n",
    "    k=cv2.waitKey(0)\n",
    "    if k==27:\n",
    "        cv2.destroyAllWindows()\n",
    "        break"
   ]
  }
 ],
 "metadata": {
  "kernelspec": {
   "display_name": "Python 3",
   "language": "python",
   "name": "python3"
  },
  "language_info": {
   "codemirror_mode": {
    "name": "ipython",
    "version": 3
   },
   "file_extension": ".py",
   "mimetype": "text/x-python",
   "name": "python",
   "nbconvert_exporter": "python",
   "pygments_lexer": "ipython3",
   "version": "3.7.3"
  }
 },
 "nbformat": 4,
 "nbformat_minor": 2
}
