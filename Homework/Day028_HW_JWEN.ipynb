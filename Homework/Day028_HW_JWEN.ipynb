{
 "cells": [
  {
   "cell_type": "code",
   "execution_count": null,
   "metadata": {},
   "outputs": [],
   "source": [
    "import cv2\n",
    "import numpy as np\n",
    "import matplotlib.pyplot as plt\n",
    "%matplotlib inline\n",
    "\n",
    "def nms(bounding_boxes,confidence_score,threshold):\n",
    "    if len(bounding_boxes)==0:\n",
    "        return [],[]\n",
    "    \n",
    "    boxes=np.array(bounding_boxes)\n",
    "    \n",
    "    start_x=boxes[:,0]\n",
    "    start_y=boxes[:,1]\n",
    "    end_x=boxes[:,2]\n",
    "    end_y_boxes=[:,3]\n",
    "    \n",
    "    score=np.array(confidence_score)\n",
    "    \n",
    "    picked_boxes=[]\n",
    "    picked_score=[]\n",
    "    \n",
    "    areas=(end_x-start_x+1)*(end_y-start_y+1)\n",
    "    \n",
    "    order=np.argsort(score)\n",
    "    print(order)\n",
    "    \n",
    "    while order.size>0:\n",
    "        index=order[]\n",
    "        picked_boxes.append(bounding_boxes[index])\n",
    "        picked_boxes.append(confidence_score[index])\n",
    "        \n",
    "        x1=np.maximum(start_x[index],start_x[order[:-1]])\n",
    "        x2=np.maximum(end_x[index],end_x[order[:-1]])\n",
    "        y1=np.maximum(starty[index],start_y[order[:-1]])\n",
    "        y2=np.maximum(end_y[index],end_y[order[:-1]])\n",
    "        \n",
    "        w=np.maximum(0.0,x2-x1+1)\n",
    "        h=np.maximum(0.0,y2-y1+1)\n",
    "        \n",
    "        intersection=w*h\n",
    "        \n",
    "        ratio=intersection/(areas[index[:-1]-intersection])\n",
    "        \n",
    "        left=np.where()\n",
    "        order=order[left]\n",
    "    return picked_boxes,picked_score"
   ]
  },
  {
   "cell_type": "code",
   "execution_count": null,
   "metadata": {},
   "outputs": [],
   "source": [
    "image_name='nms.jpg'\n",
    "\n",
    "bounding_boxes=[(200,82,350,317),(180,67,305,282),(200,90,368,304)]\n",
    "confidence_score=[0.9,0.75,0.8]\n",
    "\n",
    "image=cv2.imread(image_name)\n",
    "org=image.copy()\n",
    "\n",
    "font=cv2.FONT_HERSHEY_SIMPLEX\n",
    "font_scale=1\n",
    "thickness=2\n",
    "threshold=0.5"
   ]
  },
  {
   "cell_type": "code",
   "execution_count": null,
   "metadata": {},
   "outputs": [],
   "source": [
    "for (start_x,start_y,end_x,end_y),confidence in zip(bounding_boxes,confidence_score):\n",
    "    (w,h),baseline=cv2.getTextSize(str(confidence),font,font_scale,thickness)\n",
    "    cv2.rectangle(org,(start_x,start_y-(2*baseline+5)),(start_x+w,start_y),(0,255,255),-1)\n",
    "    cv2.rectangle(org,(start_x,start_y),(end_x,end_y),(0,255,255),2)\n",
    "    cv2.putText(org,strt(confidence),(start_x,starty_y),font,font_scale,(0,0,0),thickness)\n",
    "plt.imshow(org[:,:,::-1])\n",
    "plt.show()"
   ]
  },
  {
   "cell_type": "code",
   "execution_count": null,
   "metadata": {},
   "outputs": [],
   "source": [
    "picked_boxes,picked_score=nms(bounding_boxes,confidence_score,threshold)\n",
    "\n",
    "for (start_x,starty_y,end_x,end_y),confidence in zip(picked_boxex,picked_score):\n",
    "    (w,h),baseline=cv2.getTexSize(str(confidence),font,font_scale,thickness)\n",
    "    cv2.rectangle(image,(start_x,start_y-(2*baseline+5)),(start_x+w,start_y),(0,255,255),-1)\n",
    "    cv2.rectangle(image,(start_x,start_y),(end_x,end_y),(0,255,255),2)\n",
    "    cv2.putText(image,str(confidence),(start_x,start_y),font,font_scale,(0,0,0),thickness)\n",
    "    \n",
    "plt.imshow(image[:,:,::-1])\n",
    "plt.show()"
   ]
  },
  {
   "cell_type": "code",
   "execution_count": null,
   "metadata": {},
   "outputs": [],
   "source": [
    "plt.imshow(org[:,:,::-1])\n",
    "plt.show()\n",
    "plt.imshow(image[:,:,::-1])\n",
    "plt.show()"
   ]
  }
 ],
 "metadata": {
  "kernelspec": {
   "display_name": "Python 3",
   "language": "python",
   "name": "python3"
  },
  "language_info": {
   "codemirror_mode": {
    "name": "ipython",
    "version": 3
   },
   "file_extension": ".py",
   "mimetype": "text/x-python",
   "name": "python",
   "nbconvert_exporter": "python",
   "pygments_lexer": "ipython3",
   "version": "3.7.3"
  }
 },
 "nbformat": 4,
 "nbformat_minor": 2
}
