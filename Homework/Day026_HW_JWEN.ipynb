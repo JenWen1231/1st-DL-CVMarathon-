{
 "cells": [
  {
   "cell_type": "code",
   "execution_count": null,
   "metadata": {},
   "outputs": [],
   "source": [
    "from keras.layers import Flatten, Dense,Input,Conv2D,MaxPooling2D, Dropout\n",
    "from keras.layers import GlobalAveragePooling2D,GlobalMaxPooling2D,TimeDistributed\n",
    "\n",
    "input_shape_img=(1024,1024,3)\n",
    "img_input=Input(shape=input_shape_img)\n",
    "\n",
    "def nn_base(img_input):\n",
    "    x=Conv2D(63,(3,3),activation='relu',padding='same',name='block1_conv1')(img_input)\n",
    "    x=Conv2D(64,(3,3),activation='relu',padding='same',name='block1_conv2')(x)\n",
    "    x=MaxPooling2D((2,2),strides=(2,2),name='block1_pool')(x)\n",
    "    \n",
    "    x=Conv2D(128,(3,3),activation='relu',padding='same',name='block2_conv1')(x)\n",
    "    x=Conv2D(128,(3,3),activation='relu',padding='same',name='block2_conv2')(x)\n",
    "    x=MaxPooling2D((2,2),strides=(2,2),name='block2_pool')(x)\n",
    "    \n",
    "    x=Conv2D(256,(3,3),activation='relu',padding='same',name='block3_conv1')(x)\n",
    "    x=Conv2D(256,(3,3),activation='relu',padding='same',name='block3_conv2')(x)\n",
    "    x=Conv2D(256,(3,3),activation='relu',padding='same',name='block3_conv3')(x)\n",
    "    x=MaxPooling2D((2,2),strides=(2,2),name='block3_pool')(x)\n",
    "    \n",
    "    x=Conv2D(512,(3,3),activation='relu',padding='same',name='block4_conv1')(x)\n",
    "    x=Conv2D(512,(3,3),activation='relu',padding='same',name='block4_conv2')(x)\n",
    "    x=Conv2D(512,(3,3),activation='relu',padding='same',name='block4_conv3')(x)\n",
    "    x=MaxPooling2D((2,2),strides=(2,2),name='block4_pool')(x)\n",
    "    \n",
    "    x=Conv2D(512,(3,3),activation='relu',padding='same',name='block5_conv1')(x)\n",
    "    x=Conv2D(512,(3,3),activation='relu',padding='same',name='block5_conv2')(x)\n",
    "    x=Conv2D(512,(3,3),activation='relu',padding='same',name='block5_conv3')(x)\n",
    "\n",
    "    return x"
   ]
  },
  {
   "cell_type": "code",
   "execution_count": null,
   "metadata": {},
   "outputs": [],
   "source": [
    "def rpn(base_layers,num_anchors):\n",
    "    x=Conv2D(,kernel=,padding='same',activation='relu',kernel_initializer='normal',name='rpn_conv1')(base_layers)\n",
    "    x_class=Conv2D(num_anchors*,(1,1),activation='softmax',name='rpn_out_class')(x)\n",
    "    x_reg=Conv2D(num_anchors*,(1,1),activation='linear',name='rpn_out_regress')(x)\n",
    "    \n",
    "    return x_class,x_reg,base_layers"
   ]
  },
  {
   "cell_type": "code",
   "execution_count": null,
   "metadata": {},
   "outputs": [],
   "source": [
    "base_layers=nn_base(img_input)"
   ]
  },
  {
   "cell_type": "code",
   "execution_count": null,
   "metadata": {},
   "outputs": [],
   "source": [
    "x_class,x_reg,base_layers=rpn(base_layers,)"
   ]
  },
  {
   "cell_type": "code",
   "execution_count": null,
   "metadata": {},
   "outputs": [],
   "source": [
    "print('Classification:',x_class)\n",
    "print('BBOX Regression:',x_reg)\n",
    "print('CNN Output:',base_layers)"
   ]
  }
 ],
 "metadata": {
  "kernelspec": {
   "display_name": "Python 3",
   "language": "python",
   "name": "python3"
  },
  "language_info": {
   "codemirror_mode": {
    "name": "ipython",
    "version": 3
   },
   "file_extension": ".py",
   "mimetype": "text/x-python",
   "name": "python",
   "nbconvert_exporter": "python",
   "pygments_lexer": "ipython3",
   "version": "3.7.3"
  }
 },
 "nbformat": 4,
 "nbformat_minor": 2
}
