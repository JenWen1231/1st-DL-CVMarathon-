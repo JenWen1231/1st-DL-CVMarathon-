{
 "cells": [
  {
   "cell_type": "code",
   "execution_count": null,
   "metadata": {},
   "outputs": [],
   "source": [
    "from keras.models import Sequential\n",
    "frok keras.layers import Conv2D,MaxPooling2D,Flatten,Dense,BatchNormalization,Activation"
   ]
  },
  {
   "cell_type": "code",
   "execution_count": null,
   "metadata": {},
   "outputs": [],
   "source": [
    "input_shape=(32,32,3)\n",
    "model=Sequential()\n",
    "\n",
    "model.add(Conv2D())\n",
    "model.add('add BatchNormalization')\n",
    "model.add(Activation('sigmoid'))\n",
    "\n",
    "model.add()\n",
    "model.add('add BatchNormalization')\n",
    "modle.add(Activation('relu'))\n",
    "\n",
    "model.summary()"
   ]
  }
 ],
 "metadata": {
  "kernelspec": {
   "display_name": "Python 3",
   "language": "python",
   "name": "python3"
  },
  "language_info": {
   "codemirror_mode": {
    "name": "ipython",
    "version": 3
   },
   "file_extension": ".py",
   "mimetype": "text/x-python",
   "name": "python",
   "nbconvert_exporter": "python",
   "pygments_lexer": "ipython3",
   "version": "3.7.3"
  }
 },
 "nbformat": 4,
 "nbformat_minor": 2
}
